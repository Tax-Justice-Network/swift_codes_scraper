{
 "cells": [
  {
   "cell_type": "markdown",
   "metadata": {},
   "source": [
    "# Web Scraping"
   ]
  },
  {
   "cell_type": "markdown",
   "metadata": {},
   "source": [
    "## Setup"
   ]
  },
  {
   "cell_type": "markdown",
   "metadata": {},
   "source": [
    "### Format and Style"
   ]
  },
  {
   "cell_type": "code",
   "execution_count": null,
   "metadata": {},
   "outputs": [],
   "source": [
    "# Notebook formatting\n",
    "%load_ext jupyter_black"
   ]
  },
  {
   "cell_type": "markdown",
   "metadata": {},
   "source": [
    "### Configuration"
   ]
  },
  {
   "cell_type": "code",
   "execution_count": null,
   "metadata": {},
   "outputs": [],
   "source": [
    "ROOT_URL = \"https://swift-codes.org/all-country/\"\n",
    "EXAMPLE_URL = (\n",
    "    \"https://swift-codes.org/ireland/bank-of-america-dublin-swift-codes-bofaie3xxxx/\"\n",
    ")"
   ]
  },
  {
   "cell_type": "markdown",
   "metadata": {},
   "source": [
    "### Imports"
   ]
  },
  {
   "cell_type": "code",
   "execution_count": null,
   "metadata": {},
   "outputs": [],
   "source": [
    "import pandas as pd\n",
    "import selenium\n",
    "\n",
    "# Load selenium components\n",
    "from selenium import webdriver\n",
    "from selenium.webdriver.common.keys import Keys\n",
    "from selenium.webdriver.common.by import By\n",
    "from selenium.webdriver.support.ui import WebDriverWait, Select\n",
    "from selenium.webdriver.support import expected_conditions as EC\n",
    "from selenium.common.exceptions import TimeoutException\n",
    "from webdriver_manager.chrome import ChromeDriverManager"
   ]
  },
  {
   "cell_type": "markdown",
   "metadata": {},
   "source": [
    "### Global Constants and Variables"
   ]
  },
  {
   "cell_type": "code",
   "execution_count": null,
   "metadata": {},
   "outputs": [],
   "source": [
    "DRIVER_PATH = \"/Users/danielcoll/Library/Drivers/chromedriver\""
   ]
  },
  {
   "cell_type": "markdown",
   "metadata": {},
   "source": [
    "### Functions"
   ]
  },
  {
   "cell_type": "code",
   "execution_count": null,
   "metadata": {},
   "outputs": [],
   "source": []
  },
  {
   "cell_type": "markdown",
   "metadata": {},
   "source": [
    "### Main"
   ]
  },
  {
   "cell_type": "code",
   "execution_count": null,
   "metadata": {},
   "outputs": [],
   "source": [
    "# Establish chrome driver and go to report site URL\n",
    "driver = webdriver.Chrome(DRIVER_PATH)"
   ]
  },
  {
   "cell_type": "code",
   "execution_count": null,
   "metadata": {},
   "outputs": [],
   "source": [
    "def scrap_first_level_links():\n",
    "    driver.get(ROOT_URL)\n",
    "    # Retrieve list of first level bic country links - This must be customized\n",
    "    country_list = driver.find_element(By.CLASS_NAME, \"country-list\")\n",
    "    lis = country_list.find_elements(By.TAG_NAME, \"li\")\n",
    "    links = []\n",
    "    for li in lis:\n",
    "        a = li.find_element(By.TAG_NAME, \"a\")\n",
    "        link = a.get_attribute(\"href\")\n",
    "        links.append(link)\n",
    "    return links\n",
    "\n",
    "\n",
    "first_level_links = scrap_first_level_links()\n",
    "first_level_links"
   ]
  },
  {
   "cell_type": "code",
   "execution_count": null,
   "metadata": {},
   "outputs": [],
   "source": [
    "# # Retrieve bic list from country link\n",
    "# test_url = \"https://swift-codes.org/list/algeria/\"\n",
    "\n",
    "# driver.get(test_url)"
   ]
  },
  {
   "cell_type": "code",
   "execution_count": null,
   "metadata": {},
   "outputs": [],
   "source": [
    "def scrap_second_level_links(first_level_links):\n",
    "    second_level_links = []\n",
    "    for first_level_link in first_level_links:\n",
    "        # Access to first level link and wait until the page is fully loaded\n",
    "        try:\n",
    "            driver.get(first_level_link)\n",
    "            element = WebDriverWait(driver, 10).until(\n",
    "                EC.presence_of_element_located((By.ID, \"myDynamicElement\"))\n",
    "            )\n",
    "        except:\n",
    "            print(\"Something went wrong loading the page\")\n",
    "        # Retrieve list of second level bic country links - This must be customized\n",
    "        post_titles = driver.find_elements(By.CLASS_NAME, \"post-title.entry-title\")\n",
    "        for post_title in post_titles:\n",
    "            a = post_title.find_elements(By.TAG_NAME, \"a\")\n",
    "            for elem in a:\n",
    "                second_level_link = elem.get_attribute(\"href\")\n",
    "                second_level_links.append(second_level_link)\n",
    "\n",
    "    return second_level_links\n",
    "\n",
    "\n",
    "second_level_links = scrap_second_level_links(first_level_links[0:2])\n",
    "second_level_links"
   ]
  },
  {
   "cell_type": "code",
   "execution_count": null,
   "metadata": {},
   "outputs": [],
   "source": [
    "# # Retrieve bics - This must be customized\n",
    "# test_url = \"https://swift-codes.org/bulgaria/bulgarian-bank-swift-code-bulgaria/\"\n",
    "\n",
    "# driver.get(test_url)"
   ]
  },
  {
   "cell_type": "code",
   "execution_count": null,
   "metadata": {},
   "outputs": [],
   "source": [
    "len([1, 2])"
   ]
  },
  {
   "cell_type": "code",
   "execution_count": null,
   "metadata": {},
   "outputs": [],
   "source": [
    "list(range(2))"
   ]
  },
  {
   "cell_type": "code",
   "execution_count": null,
   "metadata": {},
   "outputs": [],
   "source": [
    "def scrap_bic_dataset_from_html_table(links):\n",
    "    for index, link in zip(list(range(len(links))), links):\n",
    "        # Access to first level link and wait until the page is fully loaded\n",
    "        print(index, link)\n",
    "        try:\n",
    "            driver.get(link)\n",
    "            element = WebDriverWait(driver, 10).until(\n",
    "                EC.presence_of_element_located((By.ID, \"myDynamicElement\"))\n",
    "            )\n",
    "        except:\n",
    "            print(\"Something went wrong loading the page\")\n",
    "        # TODO Retrieve data when page has a different html format - Some links are not extracting the data\n",
    "        # Retrieve bics - This must be customized\n",
    "        table = driver.find_element(By.TAG_NAME, \"table\")\n",
    "        df_bic = pd.read_html(table.get_attribute(\"outerHTML\"), header=0)[0]\n",
    "        df_bic.to_csv(f\"../data/intermediary/{index}.csv\", index=False)\n",
    "\n",
    "\n",
    "scrap_bic_dataset_from_html_table(second_level_links)"
   ]
  },
  {
   "cell_type": "code",
   "execution_count": null,
   "metadata": {},
   "outputs": [],
   "source": [
    "driver.quit()"
   ]
  }
 ],
 "metadata": {
  "kernelspec": {
   "display_name": "Python 3.10.6 ('web_scraping')",
   "language": "python",
   "name": "python3"
  },
  "language_info": {
   "codemirror_mode": {
    "name": "ipython",
    "version": 3
   },
   "file_extension": ".py",
   "mimetype": "text/x-python",
   "name": "python",
   "nbconvert_exporter": "python",
   "pygments_lexer": "ipython3",
   "version": "3.10.6"
  },
  "orig_nbformat": 4,
  "vscode": {
   "interpreter": {
    "hash": "d2cc90161b87ec4837004ac9c329f9f1ed5618723289f0ce1c9b58541f3fd007"
   }
  }
 },
 "nbformat": 4,
 "nbformat_minor": 2
}
