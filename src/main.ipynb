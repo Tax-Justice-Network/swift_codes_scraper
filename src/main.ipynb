{
 "cells": [
  {
   "cell_type": "markdown",
   "metadata": {},
   "source": [
    "# Web Scraping"
   ]
  },
  {
   "cell_type": "markdown",
   "metadata": {},
   "source": [
    "## Setup"
   ]
  },
  {
   "cell_type": "markdown",
   "metadata": {},
   "source": [
    "### Format and Style"
   ]
  },
  {
   "cell_type": "code",
   "execution_count": 44,
   "metadata": {},
   "outputs": [
    {
     "name": "stdout",
     "output_type": "stream",
     "text": [
      "The jupyter_black extension is already loaded. To reload it, use:\n",
      "  %reload_ext jupyter_black\n"
     ]
    }
   ],
   "source": [
    "# Notebook formatting\n",
    "%load_ext jupyter_black"
   ]
  },
  {
   "cell_type": "markdown",
   "metadata": {},
   "source": [
    "### Configuration"
   ]
  },
  {
   "cell_type": "code",
   "execution_count": 45,
   "metadata": {},
   "outputs": [],
   "source": [
    "ROOT_URL = \"https://swift-codes.org/all-country/\"\n",
    "EXAMPLE_URL = (\n",
    "    \"https://swift-codes.org/ireland/bank-of-america-dublin-swift-codes-bofaie3xxxx/\"\n",
    ")"
   ]
  },
  {
   "cell_type": "markdown",
   "metadata": {},
   "source": [
    "### Imports"
   ]
  },
  {
   "cell_type": "code",
   "execution_count": 46,
   "metadata": {},
   "outputs": [],
   "source": [
    "import pandas as pd\n",
    "import selenium\n",
    "\n",
    "# Load selenium components\n",
    "from selenium import webdriver\n",
    "from selenium.webdriver.common.keys import Keys\n",
    "from selenium.webdriver.common.by import By\n",
    "from selenium.webdriver.support.ui import WebDriverWait, Select\n",
    "from selenium.webdriver.support import expected_conditions as EC\n",
    "from selenium.common.exceptions import TimeoutException\n",
    "from webdriver_manager.chrome import ChromeDriverManager"
   ]
  },
  {
   "cell_type": "markdown",
   "metadata": {},
   "source": [
    "### Global Constants and Variables"
   ]
  },
  {
   "cell_type": "code",
   "execution_count": 47,
   "metadata": {},
   "outputs": [],
   "source": [
    "DRIVER_PATH = \"/Users/danielcoll/Library/Drivers/chromedriver\""
   ]
  },
  {
   "cell_type": "markdown",
   "metadata": {},
   "source": [
    "### Functions"
   ]
  },
  {
   "cell_type": "code",
   "execution_count": null,
   "metadata": {},
   "outputs": [],
   "source": []
  },
  {
   "cell_type": "markdown",
   "metadata": {},
   "source": [
    "### Main"
   ]
  },
  {
   "cell_type": "code",
   "execution_count": 48,
   "metadata": {},
   "outputs": [
    {
     "name": "stderr",
     "output_type": "stream",
     "text": [
      "/var/folders/vj/vnmnz5qj13l5kmxflkz59knc0000gn/T/ipykernel_54780/101375429.py:2: DeprecationWarning: executable_path has been deprecated, please pass in a Service object\n",
      "  driver = webdriver.Chrome(DRIVER_PATH)\n"
     ]
    }
   ],
   "source": [
    "# Establish chrome driver and go to report site URL\n",
    "driver = webdriver.Chrome(DRIVER_PATH)"
   ]
  },
  {
   "cell_type": "code",
   "execution_count": 49,
   "metadata": {},
   "outputs": [
    {
     "data": {
      "text/plain": [
       "['https://swift-codes.org/list/algeria/',\n",
       " 'https://swift-codes.org/list/argentina/',\n",
       " 'https://swift-codes.org/list/australia/',\n",
       " 'https://swift-codes.org/list/austria/',\n",
       " 'https://swift-codes.org/list/bangladesh/',\n",
       " 'https://swift-codes.org/list/bank/',\n",
       " 'https://swift-codes.org/list/belgium/',\n",
       " 'https://swift-codes.org/list/brazil/',\n",
       " 'https://swift-codes.org/list/bulgaria/',\n",
       " 'https://swift-codes.org/list/canada/',\n",
       " 'https://swift-codes.org/list/chile/',\n",
       " 'https://swift-codes.org/list/china/',\n",
       " 'https://swift-codes.org/list/denmark/',\n",
       " 'https://swift-codes.org/list/england/',\n",
       " 'https://swift-codes.org/list/estonia/',\n",
       " 'https://swift-codes.org/list/france/',\n",
       " 'https://swift-codes.org/list/germany/',\n",
       " 'https://swift-codes.org/list/greece/',\n",
       " 'https://swift-codes.org/list/india/',\n",
       " 'https://swift-codes.org/list/indonesia/',\n",
       " 'https://swift-codes.org/list/ireland/',\n",
       " 'https://swift-codes.org/list/italy/',\n",
       " 'https://swift-codes.org/list/japan/',\n",
       " 'https://swift-codes.org/list/kazakhstan/',\n",
       " 'https://swift-codes.org/list/korea/',\n",
       " 'https://swift-codes.org/list/kuwait/',\n",
       " 'https://swift-codes.org/list/lebanon/',\n",
       " 'https://swift-codes.org/list/luxembourg/',\n",
       " 'https://swift-codes.org/list/malaysia/',\n",
       " 'https://swift-codes.org/list/mexico/',\n",
       " 'https://swift-codes.org/list/netherlands/',\n",
       " 'https://swift-codes.org/list/new-zealand/',\n",
       " 'https://swift-codes.org/list/nigeria/',\n",
       " 'https://swift-codes.org/list/norway/',\n",
       " 'https://swift-codes.org/list/pakistan/',\n",
       " 'https://swift-codes.org/list/panama/',\n",
       " 'https://swift-codes.org/list/portugal/',\n",
       " 'https://swift-codes.org/list/russia/',\n",
       " 'https://swift-codes.org/list/saudi-arabia/',\n",
       " 'https://swift-codes.org/list/singapore/',\n",
       " 'https://swift-codes.org/list/south-africa/',\n",
       " 'https://swift-codes.org/list/south-korea/',\n",
       " 'https://swift-codes.org/list/spain/',\n",
       " 'https://swift-codes.org/list/sweden/',\n",
       " 'https://swift-codes.org/list/switzerland/',\n",
       " 'https://swift-codes.org/list/taiwan/',\n",
       " 'https://swift-codes.org/list/thailand/',\n",
       " 'https://swift-codes.org/list/turkey/',\n",
       " 'https://swift-codes.org/list/uae/',\n",
       " 'https://swift-codes.org/list/uk/',\n",
       " 'https://swift-codes.org/list/usa/']"
      ]
     },
     "execution_count": 49,
     "metadata": {},
     "output_type": "execute_result"
    }
   ],
   "source": [
    "def scrap_first_level_links():\n",
    "    driver.get(ROOT_URL)\n",
    "    # Retrieve list of first level bic country links - This must be customized\n",
    "    country_list = driver.find_element(By.CLASS_NAME, \"country-list\")\n",
    "    lis = country_list.find_elements(By.TAG_NAME, \"li\")\n",
    "    links = []\n",
    "    for li in lis:\n",
    "        a = li.find_element(By.TAG_NAME, \"a\")\n",
    "        link = a.get_attribute(\"href\")\n",
    "        links.append(link)\n",
    "    return links\n",
    "\n",
    "\n",
    "first_level_links = scrap_first_level_links()\n",
    "first_level_links"
   ]
  },
  {
   "cell_type": "code",
   "execution_count": 50,
   "metadata": {},
   "outputs": [],
   "source": [
    "# # Retrieve bic list from country link\n",
    "# test_url = \"https://swift-codes.org/list/algeria/\"\n",
    "\n",
    "# driver.get(test_url)"
   ]
  },
  {
   "cell_type": "code",
   "execution_count": 51,
   "metadata": {},
   "outputs": [
    {
     "name": "stdout",
     "output_type": "stream",
     "text": [
      "https://swift-codes.org/list/algeria/\n",
      "Something went wrong loading the page\n",
      "https://swift-codes.org/list/argentina/\n",
      "Something went wrong loading the page\n"
     ]
    },
    {
     "data": {
      "text/plain": [
       "['https://swift-codes.org/algeria/hsbc-bank-swift-code-for-algeria-hsbcdza1xxx/',\n",
       " 'https://swift-codes.org/argentina/nuevo-banco-de-santa-swift-code-argentina-bpsfarbaxxx/',\n",
       " 'https://swift-codes.org/argentina/swift-code-banco-de-la-provincia-de-buenos-aires-argentina-prbaarbabah/',\n",
       " 'https://swift-codes.org/argentina/banco-de-la-pampa-argentina-swift-code-pamparbaxxx/',\n",
       " 'https://swift-codes.org/argentina/argentina-banks-and-financial-institutions-swift-codes/',\n",
       " 'https://swift-codes.org/argentina/supervielle-swift-code/',\n",
       " 'https://swift-codes.org/argentina/banco-de-la-nacion-argentina-swift-code-2/']"
      ]
     },
     "execution_count": 51,
     "metadata": {},
     "output_type": "execute_result"
    }
   ],
   "source": [
    "def scrap_second_level_links(first_level_links):\n",
    "    second_level_links = []\n",
    "    for first_level_link in first_level_links:\n",
    "        print(first_level_link)\n",
    "        # Access to first level link and wait until the page is fully loaded\n",
    "        try:\n",
    "            driver.get(first_level_link)\n",
    "            element = WebDriverWait(driver, 10).until(\n",
    "                EC.presence_of_element_located((By.ID, \"myDynamicElement\"))\n",
    "            )\n",
    "        except:\n",
    "            print(\"Something went wrong loading the page\")\n",
    "        # Retrieve list of second level bic country links - This must be customized\n",
    "        post_titles = driver.find_elements(By.CLASS_NAME, \"post-title.entry-title\")\n",
    "        for post_title in post_titles:\n",
    "            a = post_title.find_elements(By.TAG_NAME, \"a\")\n",
    "            for elem in a:\n",
    "                second_level_link = elem.get_attribute(\"href\")\n",
    "                second_level_links.append(second_level_link)\n",
    "\n",
    "    return second_level_links\n",
    "\n",
    "\n",
    "second_level_links = scrap_second_level_links(first_level_links[0:2])\n",
    "second_level_links"
   ]
  },
  {
   "cell_type": "code",
   "execution_count": 52,
   "metadata": {},
   "outputs": [],
   "source": [
    "# # Retrieve bics - This must be customized\n",
    "# test_url = \"https://swift-codes.org/bulgaria/bulgarian-bank-swift-code-bulgaria/\"\n",
    "\n",
    "# driver.get(test_url)"
   ]
  },
  {
   "cell_type": "code",
   "execution_count": 53,
   "metadata": {},
   "outputs": [],
   "source": [
    "# # Retrieve bics - This must be customized\n",
    "# table = driver.find_element(By.TAG_NAME, \"table\")\n",
    "# df_bic = pd.read_html(table.get_attribute(\"outerHTML\"), header=0)[0]\n",
    "# df_bic"
   ]
  },
  {
   "cell_type": "code",
   "execution_count": 54,
   "metadata": {},
   "outputs": [],
   "source": [
    "driver.quit()"
   ]
  }
 ],
 "metadata": {
  "kernelspec": {
   "display_name": "Python 3.10.6 ('web_scraping')",
   "language": "python",
   "name": "python3"
  },
  "language_info": {
   "codemirror_mode": {
    "name": "ipython",
    "version": 3
   },
   "file_extension": ".py",
   "mimetype": "text/x-python",
   "name": "python",
   "nbconvert_exporter": "python",
   "pygments_lexer": "ipython3",
   "version": "3.10.6"
  },
  "orig_nbformat": 4,
  "vscode": {
   "interpreter": {
    "hash": "d2cc90161b87ec4837004ac9c329f9f1ed5618723289f0ce1c9b58541f3fd007"
   }
  }
 },
 "nbformat": 4,
 "nbformat_minor": 2
}
